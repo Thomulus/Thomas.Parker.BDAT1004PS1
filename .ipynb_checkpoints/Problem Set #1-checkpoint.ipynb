{
 "cells": [
  {
   "cell_type": "code",
   "execution_count": 2,
   "id": "5f5f38a3",
   "metadata": {},
   "outputs": [
    {
     "name": "stdout",
     "output_type": "stream",
     "text": [
      "Hello\n",
      "Pig Latin Output\n"
     ]
    }
   ],
   "source": [
    "#Question 6\n",
    "\n",
    "print(\"Hello\")\n",
    "print(\"Pig Latin Output\")"
   ]
  },
  {
   "cell_type": "code",
   "execution_count": null,
   "id": "89f107b7",
   "metadata": {},
   "outputs": [],
   "source": [
    "#Question 7"
   ]
  },
  {
   "cell_type": "code",
   "execution_count": null,
   "id": "2481254e",
   "metadata": {},
   "outputs": [],
   "source": [
    "#Question 8"
   ]
  }
 ],
 "metadata": {
  "kernelspec": {
   "display_name": "Python 3 (ipykernel)",
   "language": "python",
   "name": "python3"
  },
  "language_info": {
   "codemirror_mode": {
    "name": "ipython",
    "version": 3
   },
   "file_extension": ".py",
   "mimetype": "text/x-python",
   "name": "python",
   "nbconvert_exporter": "python",
   "pygments_lexer": "ipython3",
   "version": "3.11.5"
  }
 },
 "nbformat": 4,
 "nbformat_minor": 5
}
